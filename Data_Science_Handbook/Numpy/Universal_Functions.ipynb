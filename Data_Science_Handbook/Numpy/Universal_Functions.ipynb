{
  "nbformat": 4,
  "nbformat_minor": 0,
  "metadata": {
    "colab": {
      "provenance": [],
      "authorship_tag": "ABX9TyPXCJHrrVr8qnafek7VyOyF",
      "include_colab_link": true
    },
    "kernelspec": {
      "name": "python3",
      "display_name": "Python 3"
    },
    "language_info": {
      "name": "python"
    }
  },
  "cells": [
    {
      "cell_type": "markdown",
      "metadata": {
        "id": "view-in-github",
        "colab_type": "text"
      },
      "source": [
        "<a href=\"https://colab.research.google.com/github/SabrinaRoses/Data_Science/blob/main/Universal_Functions.ipynb\" target=\"_parent\"><img src=\"https://colab.research.google.com/assets/colab-badge.svg\" alt=\"Open In Colab\"/></a>"
      ]
    },
    {
      "cell_type": "markdown",
      "source": [
        "#Introducing Ufuncs"
      ],
      "metadata": {
        "id": "QIPSukLzZo2Y"
      }
    },
    {
      "cell_type": "code",
      "source": [
        "#Imagine we have an array of values and we'd like to compute the reciprocal of each.\n",
        "#A straighforward approach might look like this.\n",
        "\n",
        "import numpy as np\n",
        "np.random.seed(0)\n",
        "\n",
        "def compute_reciprocals(values):\n",
        "    output = np.empty(len(values))\n",
        "    for i in range(len(values)):\n",
        "        output[i] = 1.0 / values[i]\n",
        "    return output\n",
        "        \n",
        "values = np.random.randint(1, 10, size=5)\n",
        "compute_reciprocals(values)"
      ],
      "metadata": {
        "colab": {
          "base_uri": "https://localhost:8080/"
        },
        "id": "h72lUuOPaec6",
        "outputId": "6304ccb2-a1ff-4a89-c669-2dd9fa8a6055"
      },
      "execution_count": 14,
      "outputs": [
        {
          "output_type": "execute_result",
          "data": {
            "text/plain": [
              "array([0.16666667, 1.        , 0.25      , 0.25      , 0.125     ])"
            ]
          },
          "metadata": {},
          "execution_count": 14
        }
      ]
    },
    {
      "cell_type": "code",
      "source": [
        "big_array = np.random.randint(1, 100, size=100000)\n",
        "%time compute_reciprocals(big_array)"
      ],
      "metadata": {
        "colab": {
          "base_uri": "https://localhost:8080/"
        },
        "id": "SKLN8ZYKZ_p0",
        "outputId": "eef75036-a810-4a96-af30-a78a4721bd6f"
      },
      "execution_count": 16,
      "outputs": [
        {
          "output_type": "stream",
          "name": "stdout",
          "text": [
            "CPU times: user 216 ms, sys: 271 µs, total: 216 ms\n",
            "Wall time: 217 ms\n"
          ]
        },
        {
          "output_type": "execute_result",
          "data": {
            "text/plain": [
              "array([0.01030928, 0.5       , 0.02380952, ..., 0.01219512, 0.01369863,\n",
              "       0.0125    ])"
            ]
          },
          "metadata": {},
          "execution_count": 16
        }
      ]
    },
    {
      "cell_type": "code",
      "source": [
        "#Operate between two arrays\n",
        "np.arange(5) / np.arange(1,6)"
      ],
      "metadata": {
        "colab": {
          "base_uri": "https://localhost:8080/"
        },
        "id": "Vq2PTgIdcwyj",
        "outputId": "b2f5ef79-ea97-4bf4-bc43-8f8bd4b00ccf"
      },
      "execution_count": 18,
      "outputs": [
        {
          "output_type": "execute_result",
          "data": {
            "text/plain": [
              "array([0.        , 0.5       , 0.66666667, 0.75      , 0.8       ])"
            ]
          },
          "metadata": {},
          "execution_count": 18
        }
      ]
    },
    {
      "cell_type": "code",
      "source": [
        "x = np.arange(9).reshape((3,3)) #multi-dimensional\n",
        "2**x"
      ],
      "metadata": {
        "colab": {
          "base_uri": "https://localhost:8080/"
        },
        "id": "_iTbheTof2Ld",
        "outputId": "732d7dd4-5880-4602-c7ed-d42df0b868b3"
      },
      "execution_count": 19,
      "outputs": [
        {
          "output_type": "execute_result",
          "data": {
            "text/plain": [
              "array([[  1,   2,   4],\n",
              "       [  8,  16,  32],\n",
              "       [ 64, 128, 256]])"
            ]
          },
          "metadata": {},
          "execution_count": 19
        }
      ]
    },
    {
      "cell_type": "markdown",
      "source": [
        "Computations using vectorization through ufuncs are nearly always more efficient than their counterpart implemented using Python loops, especially as the arrays grow in size. Any time you see such a loop in a Python script, you should consider whether it can be replaced with a vectorized expression."
      ],
      "metadata": {
        "id": "RdvNlHgsghmo"
      }
    },
    {
      "cell_type": "markdown",
      "source": [
        "#Exploring Numpy's Ufuncs\n",
        "Ufuncs exist in two flavors: unary ufuncs , which operate on a single input, \n",
        "and binary ufuncs, which operate on two inputs."
      ],
      "metadata": {
        "id": "uIyRawI-h43_"
      }
    },
    {
      "cell_type": "markdown",
      "source": [
        "#Array arithmetic"
      ],
      "metadata": {
        "id": "GwBl4RsHiv-t"
      }
    },
    {
      "cell_type": "code",
      "source": [
        "x = np.arange(4)\n",
        "print(\"x = \", x)\n",
        "print(\"x + 5 =\", x + 5)\n",
        "print(\"x - 5 =\", x-5)\n",
        "print(\"x * 5 = \", x * 5)\n",
        "print(\"x / 5 =\", x /5 )\n",
        "print(\"x // 5 = \", x //2) #Floor division"
      ],
      "metadata": {
        "colab": {
          "base_uri": "https://localhost:8080/"
        },
        "id": "cwl68bWYi3ht",
        "outputId": "82e35151-6c79-489a-e26a-0a9da8551e6f"
      },
      "execution_count": 22,
      "outputs": [
        {
          "output_type": "stream",
          "name": "stdout",
          "text": [
            "x =  [0 1 2 3]\n",
            "x + 5 = [5 6 7 8]\n",
            "x - 5 = [-5 -4 -3 -2]\n",
            "x * 5 =  [ 0  5 10 15]\n",
            "x / 5 = [0.  0.2 0.4 0.6]\n",
            "x // 5 =  [0 0 1 1]\n"
          ]
        }
      ]
    },
    {
      "cell_type": "markdown",
      "source": [
        "There is also a unary ufunc for negation, and a ** operator for expotentiation,\n",
        "and a % operator for moduls:"
      ],
      "metadata": {
        "id": "Rn9jOTVDj52c"
      }
    },
    {
      "cell_type": "code",
      "source": [
        "print(\"x -\", -x)\n",
        "print(\"x**2 = \", x**2)\n",
        "print(\"x % 2 = \", x % 2)"
      ],
      "metadata": {
        "colab": {
          "base_uri": "https://localhost:8080/"
        },
        "id": "z1OIvU8zkQNk",
        "outputId": "c4ee4872-c857-47c7-e1a8-8a54611e731c"
      },
      "execution_count": 23,
      "outputs": [
        {
          "output_type": "stream",
          "name": "stdout",
          "text": [
            "x - [ 0 -1 -2 -3]\n",
            "x**2 =  [0 1 4 9]\n",
            "x % 2 =  [0 1 0 1]\n"
          ]
        }
      ]
    },
    {
      "cell_type": "markdown",
      "source": [
        "In addition, these can strung together however you wish, and the standard order of operations is repected.\n",
        "\n",
        "Also the operador + is a wrapper for the add function."
      ],
      "metadata": {
        "id": "414gHPOYkt0J"
      }
    },
    {
      "cell_type": "code",
      "source": [
        "np.add(x, 2)"
      ],
      "metadata": {
        "colab": {
          "base_uri": "https://localhost:8080/"
        },
        "id": "ulq9QqDLkhaQ",
        "outputId": "da2b72b0-5844-4dad-92ad-5cbce988f303"
      },
      "execution_count": 24,
      "outputs": [
        {
          "output_type": "execute_result",
          "data": {
            "text/plain": [
              "array([2, 3, 4, 5])"
            ]
          },
          "metadata": {},
          "execution_count": 24
        }
      ]
    },
    {
      "cell_type": "markdown",
      "source": [
        "The following table lists the arithmetic operators implemented in NumPy:\n",
        "\n",
        "Operator\tEquivalent ufunc\tDescription\n",
        "+\tnp.add\tAddition (e.g., 1 + 1 = 2)\n",
        "-\tnp.subtract\tSubtraction (e.g., 3 - 2 = 1)\n",
        "-\tnp.negative\tUnary negation (e.g., -2)\n",
        "*\tnp.multiply\tMultiplication (e.g., 2 * 3 = 6)\n",
        "/\tnp.divide\tDivision (e.g., 3 / 2 = 1.5)\n",
        "//\tnp.floor_divide\tFloor division (e.g., 3 // 2 = 1)\n",
        "**\tnp.power\tExponentiation (e.g., 2 ** 3 = 8)\n",
        "%\tnp.mod\tModulus/remainder (e.g., 9 % 4 = 1)"
      ],
      "metadata": {
        "id": "b18NSD5MlZS4"
      }
    },
    {
      "cell_type": "markdown",
      "source": [
        "#Absolute Value\n",
        "just as NumPy understands Python's Built-in arithmetic operator, it also undertands Python's built-in absolute value function.\n",
        "The corresponding NumPy ufunc is np.absolute, whichis also available under the alis np.abs:"
      ],
      "metadata": {
        "id": "ftyNqTnulzzo"
      }
    },
    {
      "cell_type": "code",
      "source": [
        "x = np.array([-2, -1, 0, 1, 2])\n",
        "abs(x)"
      ],
      "metadata": {
        "colab": {
          "base_uri": "https://localhost:8080/"
        },
        "id": "70slu61xmsWL",
        "outputId": "90e32ec6-d852-414c-f18b-148987b82bf8"
      },
      "execution_count": 27,
      "outputs": [
        {
          "output_type": "execute_result",
          "data": {
            "text/plain": [
              "array([2, 1, 0, 1, 2])"
            ]
          },
          "metadata": {},
          "execution_count": 27
        }
      ]
    },
    {
      "cell_type": "code",
      "source": [
        "np.absolute(x)"
      ],
      "metadata": {
        "colab": {
          "base_uri": "https://localhost:8080/"
        },
        "id": "07sVNj7RmFwl",
        "outputId": "0b696dba-81b4-4c20-bf3d-610c94e8531c"
      },
      "execution_count": 28,
      "outputs": [
        {
          "output_type": "execute_result",
          "data": {
            "text/plain": [
              "array([2, 1, 0, 1, 2])"
            ]
          },
          "metadata": {},
          "execution_count": 28
        }
      ]
    },
    {
      "cell_type": "code",
      "source": [
        "np.abs(x)"
      ],
      "metadata": {
        "colab": {
          "base_uri": "https://localhost:8080/"
        },
        "id": "z4Dn3Mq9mHqG",
        "outputId": "39c8993c-a753-46c5-c7a7-b5048d342bf7"
      },
      "execution_count": 29,
      "outputs": [
        {
          "output_type": "execute_result",
          "data": {
            "text/plain": [
              "array([2, 1, 0, 1, 2])"
            ]
          },
          "metadata": {},
          "execution_count": 29
        }
      ]
    },
    {
      "cell_type": "markdown",
      "source": [
        "This ufunc can also handle complex data, in which the absolute value returns the magnitude:"
      ],
      "metadata": {
        "id": "-AsIuZAbnDx5"
      }
    },
    {
      "cell_type": "code",
      "source": [
        "x = np.array([3-4j, 4 -3j, 2 + 0j, 0+1j])\n",
        "np.abs(x)"
      ],
      "metadata": {
        "colab": {
          "base_uri": "https://localhost:8080/"
        },
        "id": "9Pw5OWggnLq9",
        "outputId": "7b39b0ee-f194-44a1-8b52-f655d2d2a3b7"
      },
      "execution_count": 31,
      "outputs": [
        {
          "output_type": "execute_result",
          "data": {
            "text/plain": [
              "array([5., 5., 2., 1.])"
            ]
          },
          "metadata": {},
          "execution_count": 31
        }
      ]
    },
    {
      "cell_type": "markdown",
      "source": [
        "#Trigonometric Functions"
      ],
      "metadata": {
        "id": "ej3ItvUqn8x3"
      }
    },
    {
      "cell_type": "code",
      "source": [
        "theta = np.linspace(0, np.pi, 3)\n",
        "#now we can use some trigonometric functions on theses values"
      ],
      "metadata": {
        "id": "-q0SUR8kn_PN"
      },
      "execution_count": 32,
      "outputs": []
    },
    {
      "cell_type": "code",
      "source": [
        "print(\"Theta =\", theta)\n",
        "print(\"sin(theta) = \", np.sin(theta))\n",
        "print(\"cos(theta) =\", np.cos(theta))\n",
        "print(\"tan(theta = \", np.tan(theta))"
      ],
      "metadata": {
        "colab": {
          "base_uri": "https://localhost:8080/"
        },
        "id": "mS0SBGrKoJHM",
        "outputId": "8e5c0f50-245c-4de0-8afa-139395253eb3"
      },
      "execution_count": 33,
      "outputs": [
        {
          "output_type": "stream",
          "name": "stdout",
          "text": [
            "Theta = [0.         1.57079633 3.14159265]\n",
            "sin(theta) =  [0.0000000e+00 1.0000000e+00 1.2246468e-16]\n",
            "cos(theta) = [ 1.000000e+00  6.123234e-17 -1.000000e+00]\n",
            "tan(theta =  [ 0.00000000e+00  1.63312394e+16 -1.22464680e-16]\n"
          ]
        }
      ]
    },
    {
      "cell_type": "markdown",
      "source": [
        "The valus are computade within machine precision, whichis why values that should be zero do not always hit exactly zero. Inverse trigonemetric functions are also available: "
      ],
      "metadata": {
        "id": "ORo4WQyiozk-"
      }
    },
    {
      "cell_type": "code",
      "source": [
        "x = [-1, 0, 1]\n",
        "print(\"x = \", x)\n",
        "print(\"arcsin(x) =\", np.arcsin(x))\n",
        "print(\"arccos(x) =\", np.arccos(x))\n",
        "print(\"arctan(x) =\", np.arctan(x))"
      ],
      "metadata": {
        "colab": {
          "base_uri": "https://localhost:8080/"
        },
        "id": "PFXG64B-pL2a",
        "outputId": "471e4bdb-23fe-46da-f441-383ac557a670"
      },
      "execution_count": 37,
      "outputs": [
        {
          "output_type": "stream",
          "name": "stdout",
          "text": [
            "x =  [-1, 0, 1]\n",
            "arcsin(x) = [-1.57079633  0.          1.57079633]\n",
            "arccos(x) = [3.14159265 1.57079633 0.        ]\n",
            "arctan(x) = [-0.78539816  0.          0.78539816]\n"
          ]
        }
      ]
    },
    {
      "cell_type": "markdown",
      "source": [
        "#Exponents and logarithms"
      ],
      "metadata": {
        "id": "e-_7weYyqJFT"
      }
    },
    {
      "cell_type": "code",
      "source": [
        "x = [1, 2, 3]\n",
        "print(\"x =\", x)\n",
        "print(\"e^x =\", np.exp(x))\n",
        "print(\"2^x = \", np.exp2(x))\n",
        "print(\"3^x =\", np.power(3, x))"
      ],
      "metadata": {
        "colab": {
          "base_uri": "https://localhost:8080/"
        },
        "id": "xBI7Vzs8pSJ8",
        "outputId": "b63f1d3c-ca53-4a5a-e28e-67df0506f286"
      },
      "execution_count": 38,
      "outputs": [
        {
          "output_type": "stream",
          "name": "stdout",
          "text": [
            "x = [1, 2, 3]\n",
            "e^x = [ 2.71828183  7.3890561  20.08553692]\n",
            "2^x =  [2. 4. 8.]\n",
            "3^x = [ 3  9 27]\n"
          ]
        }
      ]
    },
    {
      "cell_type": "code",
      "source": [],
      "metadata": {
        "id": "S-xkalpirf_5"
      },
      "execution_count": null,
      "outputs": []
    },
    {
      "cell_type": "markdown",
      "source": [
        "The inverse of the exponentials, the logarithms, are also available. The basic np.log gives the natural logarithm; if you prefer to compute the base 2 logarithm or the base 10 logarithm, there are available as well."
      ],
      "metadata": {
        "id": "qCrzBBpcrzQK"
      }
    },
    {
      "cell_type": "code",
      "source": [
        "x = [1, 2, 4, 10]\n",
        "print(\"x =\", x)\n",
        "print(\"ln(x)\", np.log(x))\n",
        "print(\"log2(x)\", np.log2(x))\n",
        "print(\"log10(x) = \", np.log10(x))"
      ],
      "metadata": {
        "colab": {
          "base_uri": "https://localhost:8080/"
        },
        "id": "f8r64LgosHpP",
        "outputId": "7bf3c66d-c1e2-4076-957b-db6277fe037a"
      },
      "execution_count": 42,
      "outputs": [
        {
          "output_type": "stream",
          "name": "stdout",
          "text": [
            "x = [1, 2, 4, 10]\n",
            "ln(x) [0.         0.69314718 1.38629436 2.30258509]\n",
            "log2(x) [0.         1.         2.         3.32192809]\n",
            "log10(x) =  [0.         0.30103    0.60205999 1.        ]\n"
          ]
        }
      ]
    },
    {
      "cell_type": "code",
      "source": [
        "#when x is very small these functions give more precise values than if the raw\n",
        "# np.log or np.exp were to be used:\n",
        "x = [0, 0.001, 0.01, 0.1]\n",
        "print(\"exp(x) - 1 = \", np.expm1(x))\n",
        "print(\"log(1 + x)) = \", np.log1p(x))"
      ],
      "metadata": {
        "colab": {
          "base_uri": "https://localhost:8080/"
        },
        "id": "90f5ffgXsL9c",
        "outputId": "54ed180e-e119-4c11-b9fc-5d6a93da23cd"
      },
      "execution_count": 45,
      "outputs": [
        {
          "output_type": "stream",
          "name": "stdout",
          "text": [
            "exp(x) - 1 =  [0.         0.0010005  0.01005017 0.10517092]\n",
            "log(1 + x)) =  [0.         0.0009995  0.00995033 0.09531018]\n"
          ]
        }
      ]
    },
    {
      "cell_type": "code",
      "source": [],
      "metadata": {
        "id": "BlFawZoAs1NZ"
      },
      "execution_count": null,
      "outputs": []
    }
  ]
}
