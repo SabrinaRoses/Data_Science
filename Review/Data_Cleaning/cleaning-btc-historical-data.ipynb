{
 "cells": [
  {
   "cell_type": "code",
   "execution_count": 1,
   "id": "7924a176",
   "metadata": {
    "_cell_guid": "b1076dfc-b9ad-4769-8c92-a6c4dae69d19",
    "_uuid": "8f2839f25d086af736a60e9eeb907d3b93b6e0e5",
    "execution": {
     "iopub.execute_input": "2023-11-11T15:21:33.435295Z",
     "iopub.status.busy": "2023-11-11T15:21:33.434918Z",
     "iopub.status.idle": "2023-11-11T15:21:33.747336Z",
     "shell.execute_reply": "2023-11-11T15:21:33.746422Z"
    },
    "papermill": {
     "duration": 0.322088,
     "end_time": "2023-11-11T15:21:33.749256",
     "exception": false,
     "start_time": "2023-11-11T15:21:33.427168",
     "status": "completed"
    },
    "tags": []
   },
   "outputs": [
    {
     "name": "stdout",
     "output_type": "stream",
     "text": [
      "/kaggle/input/bitcoin-historical-data/bitstampUSD_1-min_data_2012-01-01_to_2021-03-31.csv\n"
     ]
    }
   ],
   "source": [
    "# This Python 3 environment comes with many helpful analytics libraries installed\n",
    "# It is defined by the kaggle/python Docker image: https://github.com/kaggle/docker-python\n",
    "# For example, here's several helpful packages to load\n",
    "\n",
    "import numpy as np # linear algebra\n",
    "import pandas as pd # data processing, CSV file I/O (e.g. pd.read_csv)\n",
    "\n",
    "# Input data files are available in the read-only \"../input/\" directory\n",
    "# For example, running this (by clicking run or pressing Shift+Enter) will list all files under the input directory\n",
    "\n",
    "import os\n",
    "for dirname, _, filenames in os.walk('/kaggle/input'):\n",
    "    for filename in filenames:\n",
    "        print(os.path.join(dirname, filename))\n",
    "\n",
    "# You can write up to 20GB to the current directory (/kaggle/working/) that gets preserved as output when you create a version using \"Save & Run All\" \n",
    "# You can also write temporary files to /kaggle/temp/, but they won't be saved outside of the current session"
   ]
  },
  {
   "cell_type": "code",
   "execution_count": 2,
   "id": "eed57611",
   "metadata": {
    "execution": {
     "iopub.execute_input": "2023-11-11T15:21:33.762441Z",
     "iopub.status.busy": "2023-11-11T15:21:33.761967Z",
     "iopub.status.idle": "2023-11-11T15:21:39.633626Z",
     "shell.execute_reply": "2023-11-11T15:21:39.632397Z"
    },
    "papermill": {
     "duration": 5.881092,
     "end_time": "2023-11-11T15:21:39.636177",
     "exception": false,
     "start_time": "2023-11-11T15:21:33.755085",
     "status": "completed"
    },
    "tags": []
   },
   "outputs": [
    {
     "data": {
      "text/html": [
       "<div>\n",
       "<style scoped>\n",
       "    .dataframe tbody tr th:only-of-type {\n",
       "        vertical-align: middle;\n",
       "    }\n",
       "\n",
       "    .dataframe tbody tr th {\n",
       "        vertical-align: top;\n",
       "    }\n",
       "\n",
       "    .dataframe thead th {\n",
       "        text-align: right;\n",
       "    }\n",
       "</style>\n",
       "<table border=\"1\" class=\"dataframe\">\n",
       "  <thead>\n",
       "    <tr style=\"text-align: right;\">\n",
       "      <th></th>\n",
       "      <th>Timestamp</th>\n",
       "      <th>Open</th>\n",
       "      <th>High</th>\n",
       "      <th>Low</th>\n",
       "      <th>Close</th>\n",
       "      <th>Volume_(BTC)</th>\n",
       "      <th>Volume_(Currency)</th>\n",
       "      <th>Weighted_Price</th>\n",
       "    </tr>\n",
       "  </thead>\n",
       "  <tbody>\n",
       "    <tr>\n",
       "      <th>0</th>\n",
       "      <td>1325317920</td>\n",
       "      <td>4.39</td>\n",
       "      <td>4.39</td>\n",
       "      <td>4.39</td>\n",
       "      <td>4.39</td>\n",
       "      <td>0.455581</td>\n",
       "      <td>2.0</td>\n",
       "      <td>4.39</td>\n",
       "    </tr>\n",
       "    <tr>\n",
       "      <th>1</th>\n",
       "      <td>1325317980</td>\n",
       "      <td>NaN</td>\n",
       "      <td>NaN</td>\n",
       "      <td>NaN</td>\n",
       "      <td>NaN</td>\n",
       "      <td>NaN</td>\n",
       "      <td>NaN</td>\n",
       "      <td>NaN</td>\n",
       "    </tr>\n",
       "    <tr>\n",
       "      <th>2</th>\n",
       "      <td>1325318040</td>\n",
       "      <td>NaN</td>\n",
       "      <td>NaN</td>\n",
       "      <td>NaN</td>\n",
       "      <td>NaN</td>\n",
       "      <td>NaN</td>\n",
       "      <td>NaN</td>\n",
       "      <td>NaN</td>\n",
       "    </tr>\n",
       "    <tr>\n",
       "      <th>3</th>\n",
       "      <td>1325318100</td>\n",
       "      <td>NaN</td>\n",
       "      <td>NaN</td>\n",
       "      <td>NaN</td>\n",
       "      <td>NaN</td>\n",
       "      <td>NaN</td>\n",
       "      <td>NaN</td>\n",
       "      <td>NaN</td>\n",
       "    </tr>\n",
       "    <tr>\n",
       "      <th>4</th>\n",
       "      <td>1325318160</td>\n",
       "      <td>NaN</td>\n",
       "      <td>NaN</td>\n",
       "      <td>NaN</td>\n",
       "      <td>NaN</td>\n",
       "      <td>NaN</td>\n",
       "      <td>NaN</td>\n",
       "      <td>NaN</td>\n",
       "    </tr>\n",
       "  </tbody>\n",
       "</table>\n",
       "</div>"
      ],
      "text/plain": [
       "    Timestamp  Open  High   Low  Close  Volume_(BTC)  Volume_(Currency)  \\\n",
       "0  1325317920  4.39  4.39  4.39   4.39      0.455581                2.0   \n",
       "1  1325317980   NaN   NaN   NaN    NaN           NaN                NaN   \n",
       "2  1325318040   NaN   NaN   NaN    NaN           NaN                NaN   \n",
       "3  1325318100   NaN   NaN   NaN    NaN           NaN                NaN   \n",
       "4  1325318160   NaN   NaN   NaN    NaN           NaN                NaN   \n",
       "\n",
       "   Weighted_Price  \n",
       "0            4.39  \n",
       "1             NaN  \n",
       "2             NaN  \n",
       "3             NaN  \n",
       "4             NaN  "
      ]
     },
     "execution_count": 2,
     "metadata": {},
     "output_type": "execute_result"
    }
   ],
   "source": [
    "# Load the dataset\n",
    "file_path = '/kaggle/input/bitcoin-historical-data/bitstampUSD_1-min_data_2012-01-01_to_2021-03-31.csv'  \n",
    "df = pd.read_csv(file_path)\n",
    "df.head()"
   ]
  },
  {
   "cell_type": "code",
   "execution_count": 3,
   "id": "a6a2de69",
   "metadata": {
    "execution": {
     "iopub.execute_input": "2023-11-11T15:21:39.651468Z",
     "iopub.status.busy": "2023-11-11T15:21:39.650694Z",
     "iopub.status.idle": "2023-11-11T15:21:41.131144Z",
     "shell.execute_reply": "2023-11-11T15:21:41.130111Z"
    },
    "papermill": {
     "duration": 1.49079,
     "end_time": "2023-11-11T15:21:41.133041",
     "exception": false,
     "start_time": "2023-11-11T15:21:39.642251",
     "status": "completed"
    },
    "tags": []
   },
   "outputs": [
    {
     "data": {
      "text/html": [
       "<div>\n",
       "<style scoped>\n",
       "    .dataframe tbody tr th:only-of-type {\n",
       "        vertical-align: middle;\n",
       "    }\n",
       "\n",
       "    .dataframe tbody tr th {\n",
       "        vertical-align: top;\n",
       "    }\n",
       "\n",
       "    .dataframe thead th {\n",
       "        text-align: right;\n",
       "    }\n",
       "</style>\n",
       "<table border=\"1\" class=\"dataframe\">\n",
       "  <thead>\n",
       "    <tr style=\"text-align: right;\">\n",
       "      <th></th>\n",
       "      <th>Timestamp</th>\n",
       "      <th>Open</th>\n",
       "      <th>High</th>\n",
       "      <th>Low</th>\n",
       "      <th>Close</th>\n",
       "      <th>Volume_(BTC)</th>\n",
       "      <th>Volume_(Currency)</th>\n",
       "      <th>Weighted_Price</th>\n",
       "    </tr>\n",
       "  </thead>\n",
       "  <tbody>\n",
       "    <tr>\n",
       "      <th>count</th>\n",
       "      <td>4.857377e+06</td>\n",
       "      <td>3.613769e+06</td>\n",
       "      <td>3.613769e+06</td>\n",
       "      <td>3.613769e+06</td>\n",
       "      <td>3.613769e+06</td>\n",
       "      <td>3.613769e+06</td>\n",
       "      <td>3.613769e+06</td>\n",
       "      <td>3.613769e+06</td>\n",
       "    </tr>\n",
       "    <tr>\n",
       "      <th>mean</th>\n",
       "      <td>1.471301e+09</td>\n",
       "      <td>6.009024e+03</td>\n",
       "      <td>6.013357e+03</td>\n",
       "      <td>6.004488e+03</td>\n",
       "      <td>6.009014e+03</td>\n",
       "      <td>9.323249e+00</td>\n",
       "      <td>4.176284e+04</td>\n",
       "      <td>6.008935e+03</td>\n",
       "    </tr>\n",
       "    <tr>\n",
       "      <th>std</th>\n",
       "      <td>8.428019e+07</td>\n",
       "      <td>8.996247e+03</td>\n",
       "      <td>9.003521e+03</td>\n",
       "      <td>8.988778e+03</td>\n",
       "      <td>8.996360e+03</td>\n",
       "      <td>3.054989e+01</td>\n",
       "      <td>1.518248e+05</td>\n",
       "      <td>8.995992e+03</td>\n",
       "    </tr>\n",
       "    <tr>\n",
       "      <th>min</th>\n",
       "      <td>1.325318e+09</td>\n",
       "      <td>3.800000e+00</td>\n",
       "      <td>3.800000e+00</td>\n",
       "      <td>1.500000e+00</td>\n",
       "      <td>1.500000e+00</td>\n",
       "      <td>0.000000e+00</td>\n",
       "      <td>0.000000e+00</td>\n",
       "      <td>3.800000e+00</td>\n",
       "    </tr>\n",
       "    <tr>\n",
       "      <th>25%</th>\n",
       "      <td>1.398179e+09</td>\n",
       "      <td>4.438600e+02</td>\n",
       "      <td>4.440000e+02</td>\n",
       "      <td>4.435200e+02</td>\n",
       "      <td>4.438600e+02</td>\n",
       "      <td>4.097759e-01</td>\n",
       "      <td>4.521422e+02</td>\n",
       "      <td>4.438306e+02</td>\n",
       "    </tr>\n",
       "    <tr>\n",
       "      <th>50%</th>\n",
       "      <td>1.471428e+09</td>\n",
       "      <td>3.596970e+03</td>\n",
       "      <td>3.598190e+03</td>\n",
       "      <td>3.595620e+03</td>\n",
       "      <td>3.597000e+03</td>\n",
       "      <td>1.979811e+00</td>\n",
       "      <td>3.810124e+03</td>\n",
       "      <td>3.596804e+03</td>\n",
       "    </tr>\n",
       "    <tr>\n",
       "      <th>75%</th>\n",
       "      <td>1.544288e+09</td>\n",
       "      <td>8.627270e+03</td>\n",
       "      <td>8.632980e+03</td>\n",
       "      <td>8.621090e+03</td>\n",
       "      <td>8.627160e+03</td>\n",
       "      <td>7.278216e+00</td>\n",
       "      <td>2.569821e+04</td>\n",
       "      <td>8.627637e+03</td>\n",
       "    </tr>\n",
       "    <tr>\n",
       "      <th>max</th>\n",
       "      <td>1.617149e+09</td>\n",
       "      <td>6.176356e+04</td>\n",
       "      <td>6.178183e+04</td>\n",
       "      <td>6.167355e+04</td>\n",
       "      <td>6.178180e+04</td>\n",
       "      <td>5.853852e+03</td>\n",
       "      <td>1.390067e+07</td>\n",
       "      <td>6.171621e+04</td>\n",
       "    </tr>\n",
       "  </tbody>\n",
       "</table>\n",
       "</div>"
      ],
      "text/plain": [
       "          Timestamp          Open          High           Low         Close  \\\n",
       "count  4.857377e+06  3.613769e+06  3.613769e+06  3.613769e+06  3.613769e+06   \n",
       "mean   1.471301e+09  6.009024e+03  6.013357e+03  6.004488e+03  6.009014e+03   \n",
       "std    8.428019e+07  8.996247e+03  9.003521e+03  8.988778e+03  8.996360e+03   \n",
       "min    1.325318e+09  3.800000e+00  3.800000e+00  1.500000e+00  1.500000e+00   \n",
       "25%    1.398179e+09  4.438600e+02  4.440000e+02  4.435200e+02  4.438600e+02   \n",
       "50%    1.471428e+09  3.596970e+03  3.598190e+03  3.595620e+03  3.597000e+03   \n",
       "75%    1.544288e+09  8.627270e+03  8.632980e+03  8.621090e+03  8.627160e+03   \n",
       "max    1.617149e+09  6.176356e+04  6.178183e+04  6.167355e+04  6.178180e+04   \n",
       "\n",
       "       Volume_(BTC)  Volume_(Currency)  Weighted_Price  \n",
       "count  3.613769e+06       3.613769e+06    3.613769e+06  \n",
       "mean   9.323249e+00       4.176284e+04    6.008935e+03  \n",
       "std    3.054989e+01       1.518248e+05    8.995992e+03  \n",
       "min    0.000000e+00       0.000000e+00    3.800000e+00  \n",
       "25%    4.097759e-01       4.521422e+02    4.438306e+02  \n",
       "50%    1.979811e+00       3.810124e+03    3.596804e+03  \n",
       "75%    7.278216e+00       2.569821e+04    8.627637e+03  \n",
       "max    5.853852e+03       1.390067e+07    6.171621e+04  "
      ]
     },
     "execution_count": 3,
     "metadata": {},
     "output_type": "execute_result"
    }
   ],
   "source": [
    "# Calculate descriptive statistics\n",
    "df.describe()"
   ]
  },
  {
   "cell_type": "code",
   "execution_count": 4,
   "id": "343c7031",
   "metadata": {
    "execution": {
     "iopub.execute_input": "2023-11-11T15:21:41.148294Z",
     "iopub.status.busy": "2023-11-11T15:21:41.146998Z",
     "iopub.status.idle": "2023-11-11T15:21:41.189243Z",
     "shell.execute_reply": "2023-11-11T15:21:41.188339Z"
    },
    "papermill": {
     "duration": 0.051862,
     "end_time": "2023-11-11T15:21:41.191114",
     "exception": false,
     "start_time": "2023-11-11T15:21:41.139252",
     "status": "completed"
    },
    "tags": []
   },
   "outputs": [
    {
     "data": {
      "text/plain": [
       "Timestamp                  0\n",
       "Open                 1243608\n",
       "High                 1243608\n",
       "Low                  1243608\n",
       "Close                1243608\n",
       "Volume_(BTC)         1243608\n",
       "Volume_(Currency)    1243608\n",
       "Weighted_Price       1243608\n",
       "dtype: int64"
      ]
     },
     "execution_count": 4,
     "metadata": {},
     "output_type": "execute_result"
    }
   ],
   "source": [
    "# Identify Missig Values\n",
    "df.isnull().sum()"
   ]
  },
  {
   "cell_type": "code",
   "execution_count": 5,
   "id": "98adb108",
   "metadata": {
    "execution": {
     "iopub.execute_input": "2023-11-11T15:21:41.205348Z",
     "iopub.status.busy": "2023-11-11T15:21:41.204793Z",
     "iopub.status.idle": "2023-11-11T15:21:41.211614Z",
     "shell.execute_reply": "2023-11-11T15:21:41.210771Z"
    },
    "papermill": {
     "duration": 0.016189,
     "end_time": "2023-11-11T15:21:41.213494",
     "exception": false,
     "start_time": "2023-11-11T15:21:41.197305",
     "status": "completed"
    },
    "tags": []
   },
   "outputs": [
    {
     "data": {
      "text/plain": [
       "Timestamp              int64\n",
       "Open                 float64\n",
       "High                 float64\n",
       "Low                  float64\n",
       "Close                float64\n",
       "Volume_(BTC)         float64\n",
       "Volume_(Currency)    float64\n",
       "Weighted_Price       float64\n",
       "dtype: object"
      ]
     },
     "execution_count": 5,
     "metadata": {},
     "output_type": "execute_result"
    }
   ],
   "source": [
    "df.dtypes"
   ]
  },
  {
   "cell_type": "code",
   "execution_count": 6,
   "id": "53bf7805",
   "metadata": {
    "execution": {
     "iopub.execute_input": "2023-11-11T15:21:41.227932Z",
     "iopub.status.busy": "2023-11-11T15:21:41.227544Z",
     "iopub.status.idle": "2023-11-11T15:21:41.271766Z",
     "shell.execute_reply": "2023-11-11T15:21:41.270083Z"
    },
    "papermill": {
     "duration": 0.054472,
     "end_time": "2023-11-11T15:21:41.274391",
     "exception": false,
     "start_time": "2023-11-11T15:21:41.219919",
     "status": "completed"
    },
    "tags": []
   },
   "outputs": [
    {
     "name": "stdout",
     "output_type": "stream",
     "text": [
      "0              4.39000\n",
      "1           6009.02368\n",
      "2           6009.02368\n",
      "3           6009.02368\n",
      "4           6009.02368\n",
      "              ...     \n",
      "4857372    58714.31000\n",
      "4857373    58683.97000\n",
      "4857374    58693.43000\n",
      "4857375    58742.18000\n",
      "4857376    58767.75000\n",
      "Name: Open, Length: 4857377, dtype: float64\n"
     ]
    }
   ],
   "source": [
    "#Replacing null values with average 'Open'\n",
    "media_open = df['Open'].fillna(df['Open'].mean())\n",
    "print(media_open)"
   ]
  },
  {
   "cell_type": "code",
   "execution_count": 7,
   "id": "700d1d61",
   "metadata": {
    "execution": {
     "iopub.execute_input": "2023-11-11T15:21:41.289298Z",
     "iopub.status.busy": "2023-11-11T15:21:41.288977Z",
     "iopub.status.idle": "2023-11-11T15:21:41.327274Z",
     "shell.execute_reply": "2023-11-11T15:21:41.325820Z"
    },
    "papermill": {
     "duration": 0.04813,
     "end_time": "2023-11-11T15:21:41.329189",
     "exception": false,
     "start_time": "2023-11-11T15:21:41.281059",
     "status": "completed"
    },
    "tags": []
   },
   "outputs": [
    {
     "name": "stdout",
     "output_type": "stream",
     "text": [
      "0              4.390000\n",
      "1           6013.357082\n",
      "2           6013.357082\n",
      "3           6013.357082\n",
      "4           6013.357082\n",
      "               ...     \n",
      "4857372    58714.310000\n",
      "4857373    58693.430000\n",
      "4857374    58723.840000\n",
      "4857375    58770.380000\n",
      "4857376    58778.180000\n",
      "Name: High, Length: 4857377, dtype: float64\n"
     ]
    }
   ],
   "source": [
    "# Replacing null values with average 'High'\n",
    "media_high = df['High'].fillna(df['High'].mean())\n",
    "print(media_high)"
   ]
  },
  {
   "cell_type": "code",
   "execution_count": 8,
   "id": "e51a4f6f",
   "metadata": {
    "execution": {
     "iopub.execute_input": "2023-11-11T15:21:41.344703Z",
     "iopub.status.busy": "2023-11-11T15:21:41.344032Z",
     "iopub.status.idle": "2023-11-11T15:21:41.383076Z",
     "shell.execute_reply": "2023-11-11T15:21:41.381344Z"
    },
    "papermill": {
     "duration": 0.050127,
     "end_time": "2023-11-11T15:21:41.385622",
     "exception": false,
     "start_time": "2023-11-11T15:21:41.335495",
     "status": "completed"
    },
    "tags": []
   },
   "outputs": [
    {
     "name": "stdout",
     "output_type": "stream",
     "text": [
      "0              4.390000\n",
      "1           6004.488004\n",
      "2           6004.488004\n",
      "3           6004.488004\n",
      "4           6004.488004\n",
      "               ...     \n",
      "4857372    58686.000000\n",
      "4857373    58683.970000\n",
      "4857374    58693.430000\n",
      "4857375    58742.180000\n",
      "4857376    58755.970000\n",
      "Name: Low, Length: 4857377, dtype: float64\n"
     ]
    }
   ],
   "source": [
    "# Replacing null values with average 'Low'\n",
    "media_low = df['Low'].fillna(df['Low'].mean())\n",
    "print(media_low)"
   ]
  },
  {
   "cell_type": "code",
   "execution_count": 9,
   "id": "dc2d38c0",
   "metadata": {
    "execution": {
     "iopub.execute_input": "2023-11-11T15:21:41.400351Z",
     "iopub.status.busy": "2023-11-11T15:21:41.400011Z",
     "iopub.status.idle": "2023-11-11T15:21:41.436729Z",
     "shell.execute_reply": "2023-11-11T15:21:41.435438Z"
    },
    "papermill": {
     "duration": 0.046634,
     "end_time": "2023-11-11T15:21:41.438896",
     "exception": false,
     "start_time": "2023-11-11T15:21:41.392262",
     "status": "completed"
    },
    "tags": []
   },
   "outputs": [
    {
     "name": "stdout",
     "output_type": "stream",
     "text": [
      "0              4.390000\n",
      "1           6009.013545\n",
      "2           6009.013545\n",
      "3           6009.013545\n",
      "4           6009.013545\n",
      "               ...     \n",
      "4857372    58686.000000\n",
      "4857373    58685.810000\n",
      "4857374    58723.840000\n",
      "4857375    58760.590000\n",
      "4857376    58778.180000\n",
      "Name: Close, Length: 4857377, dtype: float64\n"
     ]
    }
   ],
   "source": [
    "# Replacing null values with average 'Close'\n",
    "media_close = df['Close'].fillna(df['Close'].mean())\n",
    "print(media_close)"
   ]
  },
  {
   "cell_type": "code",
   "execution_count": 10,
   "id": "ddbdd9ab",
   "metadata": {
    "execution": {
     "iopub.execute_input": "2023-11-11T15:21:41.453448Z",
     "iopub.status.busy": "2023-11-11T15:21:41.453126Z",
     "iopub.status.idle": "2023-11-11T15:21:41.481364Z",
     "shell.execute_reply": "2023-11-11T15:21:41.480026Z"
    },
    "papermill": {
     "duration": 0.03822,
     "end_time": "2023-11-11T15:21:41.483777",
     "exception": false,
     "start_time": "2023-11-11T15:21:41.445557",
     "status": "completed"
    },
    "tags": []
   },
   "outputs": [
    {
     "name": "stdout",
     "output_type": "stream",
     "text": [
      "0          0.455581\n",
      "1          0.455581\n",
      "2          0.455581\n",
      "3          0.455581\n",
      "4          0.455581\n",
      "             ...   \n",
      "4857372    1.384487\n",
      "4857373    7.294848\n",
      "4857374    1.705682\n",
      "4857375    0.720415\n",
      "4857376    2.712831\n",
      "Name: Volume_(BTC), Length: 4857377, dtype: float64\n"
     ]
    }
   ],
   "source": [
    "# Fill values with previous values\n",
    "replacing_btc_fill = df['Volume_(BTC)'].fillna(method='ffill')\n",
    "print(replacing_btc_fill)"
   ]
  },
  {
   "cell_type": "code",
   "execution_count": 11,
   "id": "a20d7198",
   "metadata": {
    "execution": {
     "iopub.execute_input": "2023-11-11T15:21:41.499362Z",
     "iopub.status.busy": "2023-11-11T15:21:41.498336Z",
     "iopub.status.idle": "2023-11-11T15:21:41.521779Z",
     "shell.execute_reply": "2023-11-11T15:21:41.521032Z"
    },
    "papermill": {
     "duration": 0.033105,
     "end_time": "2023-11-11T15:21:41.523724",
     "exception": false,
     "start_time": "2023-11-11T15:21:41.490619",
     "status": "completed"
    },
    "tags": []
   },
   "outputs": [
    {
     "name": "stdout",
     "output_type": "stream",
     "text": [
      "0               2.000000\n",
      "1               2.000000\n",
      "2               2.000000\n",
      "3               2.000000\n",
      "4               2.000000\n",
      "               ...      \n",
      "4857372     81259.372187\n",
      "4857373    428158.146640\n",
      "4857374    100117.070370\n",
      "4857375     42332.958633\n",
      "4857376    159417.751000\n",
      "Name: Volume_(Currency), Length: 4857377, dtype: float64\n"
     ]
    }
   ],
   "source": [
    "# Fill values with previous values\n",
    "replacing_currency = df['Volume_(Currency)'].fillna(method='ffill')\n",
    "print(replacing_currency)"
   ]
  },
  {
   "cell_type": "code",
   "execution_count": 12,
   "id": "12faebe2",
   "metadata": {
    "execution": {
     "iopub.execute_input": "2023-11-11T15:21:41.539857Z",
     "iopub.status.busy": "2023-11-11T15:21:41.538767Z",
     "iopub.status.idle": "2023-11-11T15:21:41.589880Z",
     "shell.execute_reply": "2023-11-11T15:21:41.588195Z"
    },
    "papermill": {
     "duration": 0.061662,
     "end_time": "2023-11-11T15:21:41.592565",
     "exception": false,
     "start_time": "2023-11-11T15:21:41.530903",
     "status": "completed"
    },
    "tags": []
   },
   "outputs": [
    {
     "name": "stdout",
     "output_type": "stream",
     "text": [
      "0              4.390000\n",
      "478            4.390000\n",
      "547            4.526411\n",
      "548            4.580000\n",
      "1224           4.580000\n",
      "               ...     \n",
      "4857372    58692.753339\n",
      "4857373    58693.226508\n",
      "4857374    58696.198496\n",
      "4857375    58761.866202\n",
      "4857376    58764.349363\n",
      "Name: Weighted_Price, Length: 3613769, dtype: float64\n"
     ]
    }
   ],
   "source": [
    "#Drop nan in Weighted_Price\n",
    "cleaned_Weighted_Price = df['Weighted_Price'].dropna()\n",
    "\n",
    "print(cleaned_Weighted_Price)"
   ]
  },
  {
   "cell_type": "markdown",
   "id": "1d03fbc7",
   "metadata": {
    "papermill": {
     "duration": 0.006547,
     "end_time": "2023-11-11T15:21:41.606171",
     "exception": false,
     "start_time": "2023-11-11T15:21:41.599624",
     "status": "completed"
    },
    "tags": []
   },
   "source": [
    "Statistical Summary:\n",
    "Open = media_open     \n",
    "High = media_high   \n",
    "Low  = media_low   \n",
    "Close = media_close   \n",
    "Volume_(BTC) = replacing_btc_fill\n",
    "Volume_(Currency) = replacing_currency\n",
    "Weighted_Price = cleaned_Weighted_Price "
   ]
  },
  {
   "cell_type": "code",
   "execution_count": 13,
   "id": "511daa83",
   "metadata": {
    "execution": {
     "iopub.execute_input": "2023-11-11T15:21:41.621749Z",
     "iopub.status.busy": "2023-11-11T15:21:41.621368Z",
     "iopub.status.idle": "2023-11-11T15:21:41.899187Z",
     "shell.execute_reply": "2023-11-11T15:21:41.898039Z"
    },
    "papermill": {
     "duration": 0.2882,
     "end_time": "2023-11-11T15:21:41.901228",
     "exception": false,
     "start_time": "2023-11-11T15:21:41.613028",
     "status": "completed"
    },
    "tags": []
   },
   "outputs": [
    {
     "name": "stdout",
     "output_type": "stream",
     "text": [
      "count    3.613769e+06\n",
      "mean     6.013357e+03\n",
      "std      9.003521e+03\n",
      "min      3.800000e+00\n",
      "25%      4.440000e+02\n",
      "50%      3.598190e+03\n",
      "75%      8.632980e+03\n",
      "max      6.178183e+04\n",
      "Name: High, dtype: float64\n"
     ]
    },
    {
     "data": {
      "text/plain": [
       "count    4.857377e+06\n",
       "mean     6.013357e+03\n",
       "std      7.765898e+03\n",
       "min      3.800000e+00\n",
       "25%      6.309700e+02\n",
       "50%      6.013357e+03\n",
       "75%      7.199780e+03\n",
       "max      6.178183e+04\n",
       "Name: High, dtype: float64"
      ]
     },
     "execution_count": 13,
     "metadata": {},
     "output_type": "execute_result"
    }
   ],
   "source": [
    "# Statistical summary  before cleaning\n",
    "print(df['High'].describe())\n",
    "\n",
    "# Statitical summary after cleaning\n",
    "media_high.describe()"
   ]
  },
  {
   "cell_type": "code",
   "execution_count": 14,
   "id": "a402e661",
   "metadata": {
    "execution": {
     "iopub.execute_input": "2023-11-11T15:21:41.917080Z",
     "iopub.status.busy": "2023-11-11T15:21:41.916710Z",
     "iopub.status.idle": "2023-11-11T15:21:42.507153Z",
     "shell.execute_reply": "2023-11-11T15:21:42.505990Z"
    },
    "papermill": {
     "duration": 0.600949,
     "end_time": "2023-11-11T15:21:42.509114",
     "exception": false,
     "start_time": "2023-11-11T15:21:41.908165",
     "status": "completed"
    },
    "tags": []
   },
   "outputs": [
    {
     "data": {
      "image/png": "[encoded data removed]",
      "text/plain": [
       "<Figure size 640x480 with 1 Axes>"
      ]
     },
     "metadata": {},
     "output_type": "display_data"
    },
    {
     "data": {
      "image/png": "[encoded data removed]",
      "text/plain": [
       "<Figure size 640x480 with 1 Axes>"
      ]
     },
     "metadata": {},
     "output_type": "display_data"
    }
   ],
   "source": [
    "# Graphic Visualizations:\n",
    "import matplotlib.pyplot as plt\n",
    "\n",
    "# Histogram before cleaning\n",
    "plt.hist(df['High'], bins=30, label='Before Cleaning - High')\n",
    "plt.legend()\n",
    "plt.show()\n",
    "\n",
    "# histogram after cleaning\n",
    "plt.hist(media_high, bins=30, label='After Cleaning - High')\n",
    "plt.legend()\n",
    "plt.show()"
   ]
  },
  {
   "cell_type": "markdown",
   "id": "5e85462f",
   "metadata": {
    "papermill": {
     "duration": 0.007223,
     "end_time": "2023-11-11T15:21:42.524439",
     "exception": false,
     "start_time": "2023-11-11T15:21:42.517216",
     "status": "completed"
    },
    "tags": []
   },
   "source": []
  },
  {
   "cell_type": "code",
   "execution_count": 15,
   "id": "2992c36d",
   "metadata": {
    "execution": {
     "iopub.execute_input": "2023-11-11T15:21:42.541001Z",
     "iopub.status.busy": "2023-11-11T15:21:42.540612Z",
     "iopub.status.idle": "2023-11-11T15:21:42.822440Z",
     "shell.execute_reply": "2023-11-11T15:21:42.821485Z"
    },
    "papermill": {
     "duration": 0.292561,
     "end_time": "2023-11-11T15:21:42.824396",
     "exception": false,
     "start_time": "2023-11-11T15:21:42.531835",
     "status": "completed"
    },
    "tags": []
   },
   "outputs": [
    {
     "name": "stdout",
     "output_type": "stream",
     "text": [
      "count    3.613769e+06\n",
      "mean     6.004488e+03\n",
      "std      8.988778e+03\n",
      "min      1.500000e+00\n",
      "25%      4.435200e+02\n",
      "50%      3.595620e+03\n",
      "75%      8.621090e+03\n",
      "max      6.167355e+04\n",
      "Name: Low, dtype: float64\n",
      "count    4.857377e+06\n",
      "mean     6.004488e+03\n",
      "std      7.753181e+03\n",
      "min      1.500000e+00\n",
      "25%      6.300000e+02\n",
      "50%      6.004488e+03\n",
      "75%      7.191260e+03\n",
      "max      6.167355e+04\n",
      "Name: Low, dtype: float64\n"
     ]
    }
   ],
   "source": [
    "# Statical summary before cleaning\n",
    "print(df['Low'].describe())\n",
    "\n",
    "#Statical summary after cleaning\n",
    "print(media_low.describe())"
   ]
  },
  {
   "cell_type": "markdown",
   "id": "ae803e79",
   "metadata": {
    "papermill": {
     "duration": 0.007371,
     "end_time": "2023-11-11T15:21:42.839493",
     "exception": false,
     "start_time": "2023-11-11T15:21:42.832122",
     "status": "completed"
    },
    "tags": []
   },
   "source": []
  },
  {
   "cell_type": "code",
   "execution_count": 16,
   "id": "18c682b8",
   "metadata": {
    "execution": {
     "iopub.execute_input": "2023-11-11T15:21:42.856084Z",
     "iopub.status.busy": "2023-11-11T15:21:42.855732Z",
     "iopub.status.idle": "2023-11-11T15:21:43.404163Z",
     "shell.execute_reply": "2023-11-11T15:21:43.402937Z"
    },
    "papermill": {
     "duration": 0.559467,
     "end_time": "2023-11-11T15:21:43.406348",
     "exception": false,
     "start_time": "2023-11-11T15:21:42.846881",
     "status": "completed"
    },
    "tags": []
   },
   "outputs": [
    {
     "data": {
      "image/png": "[encoded data removed]",
      "text/plain": [
       "<Figure size 640x480 with 1 Axes>"
      ]
     },
     "metadata": {},
     "output_type": "display_data"
    },
    {
     "data": {
      "image/png": "[encoded data removed]",
      "text/plain": [
       "<Figure size 640x480 with 1 Axes>"
      ]
     },
     "metadata": {},
     "output_type": "display_data"
    }
   ],
   "source": [
    "# Graphic Visualizations:\n",
    "\n",
    "#Histogram before cleaning\n",
    "\n",
    "plt.hist(df['Low'], bins=30, label = \"Before Cleaning - Low\")\n",
    "plt.legend()\n",
    "plt.show()\n",
    "\n",
    "#Histogram after cleaning\n",
    "\n",
    "plt.hist(media_low, bins=30, label= \"After Cleaning - Low\")\n",
    "plt.legend()\n",
    "plt.show()"
   ]
  },
  {
   "cell_type": "code",
   "execution_count": 17,
   "id": "6e936804",
   "metadata": {
    "execution": {
     "iopub.execute_input": "2023-11-11T15:21:43.424319Z",
     "iopub.status.busy": "2023-11-11T15:21:43.423975Z",
     "iopub.status.idle": "2023-11-11T15:21:43.601554Z",
     "shell.execute_reply": "2023-11-11T15:21:43.600008Z"
    },
    "papermill": {
     "duration": 0.189822,
     "end_time": "2023-11-11T15:21:43.604564",
     "exception": false,
     "start_time": "2023-11-11T15:21:43.414742",
     "status": "completed"
    },
    "tags": []
   },
   "outputs": [
    {
     "name": "stdout",
     "output_type": "stream",
     "text": [
      "count    3.613769e+06\n",
      "mean     6.009014e+03\n",
      "std      8.996360e+03\n",
      "min      1.500000e+00\n",
      "25%      4.438600e+02\n",
      "50%      3.597000e+03\n",
      "75%      8.627160e+03\n",
      "max      6.178180e+04\n",
      "Name: Close, dtype: float64\n",
      "0              4.390000\n",
      "1           6009.013545\n",
      "2           6009.013545\n",
      "3           6009.013545\n",
      "4           6009.013545\n",
      "               ...     \n",
      "4857372    58686.000000\n",
      "4857373    58685.810000\n",
      "4857374    58723.840000\n",
      "4857375    58760.590000\n",
      "4857376    58778.180000\n",
      "Name: Close, Length: 4857377, dtype: float64\n"
     ]
    }
   ],
   "source": [
    "# Statistical close before cleaning\n",
    "print(df['Close'].describe())\n",
    "\n",
    "# Stastitcal close afeter cleaning\n",
    "print(media_close)"
   ]
  },
  {
   "cell_type": "code",
   "execution_count": 18,
   "id": "e5717edb",
   "metadata": {
    "execution": {
     "iopub.execute_input": "2023-11-11T15:21:43.624012Z",
     "iopub.status.busy": "2023-11-11T15:21:43.623169Z",
     "iopub.status.idle": "2023-11-11T15:21:44.179274Z",
     "shell.execute_reply": "2023-11-11T15:21:44.178121Z"
    },
    "papermill": {
     "duration": 0.56791,
     "end_time": "2023-11-11T15:21:44.181430",
     "exception": false,
     "start_time": "2023-11-11T15:21:43.613520",
     "status": "completed"
    },
    "tags": []
   },
   "outputs": [
    {
     "data": {
      "image/png": "[encoded data removed]",
      "text/plain": [
       "<Figure size 640x480 with 1 Axes>"
      ]
     },
     "metadata": {},
     "output_type": "display_data"
    },
    {
     "data": {
      "image/png": "[encoded data removed]",
      "text/plain": [
       "<Figure size 640x480 with 1 Axes>"
      ]
     },
     "metadata": {},
     "output_type": "display_data"
    }
   ],
   "source": [
    "# Histogram before cleaning\n",
    "plt.hist(df['Close'], bins=30, label=\"Before Cleaning - Close\")\n",
    "plt.legend()\n",
    "plt.show()\n",
    "\n",
    "#Histrogram afeter cleaning\n",
    "plt.hist(media_close, bins=30, label=\"After Cleaning - Close\")\n",
    "plt.legend()\n",
    "plt.show()"
   ]
  },
  {
   "cell_type": "code",
   "execution_count": 19,
   "id": "ef4c2c35",
   "metadata": {
    "execution": {
     "iopub.execute_input": "2023-11-11T15:21:44.201231Z",
     "iopub.status.busy": "2023-11-11T15:21:44.199929Z",
     "iopub.status.idle": "2023-11-11T15:21:44.589023Z",
     "shell.execute_reply": "2023-11-11T15:21:44.588052Z"
    },
    "papermill": {
     "duration": 0.401244,
     "end_time": "2023-11-11T15:21:44.591478",
     "exception": false,
     "start_time": "2023-11-11T15:21:44.190234",
     "status": "completed"
    },
    "tags": []
   },
   "outputs": [
    {
     "name": "stdout",
     "output_type": "stream",
     "text": [
      "count    3.613769e+06\n",
      "mean     9.323249e+00\n",
      "std      3.054989e+01\n",
      "min      0.000000e+00\n",
      "25%      4.097759e-01\n",
      "50%      1.979811e+00\n",
      "75%      7.278216e+00\n",
      "max      5.853852e+03\n",
      "Name: Volume_(BTC), dtype: float64\n",
      "count    4.857377e+06\n",
      "mean     9.474175e+00\n",
      "std      3.064199e+01\n",
      "min      0.000000e+00\n",
      "25%      4.070040e-01\n",
      "50%      2.000000e+00\n",
      "75%      7.560355e+00\n",
      "max      5.853852e+03\n",
      "Name: Volume_(BTC), dtype: float64\n"
     ]
    }
   ],
   "source": [
    "# Statistical summary before cleaning\n",
    "print(df['Volume_(BTC)'].describe())\n",
    "\n",
    "# Statistical Summary after Cleaning\n",
    "print(replacing_btc_fill.describe())"
   ]
  },
  {
   "cell_type": "code",
   "execution_count": 20,
   "id": "ef2c263b",
   "metadata": {
    "execution": {
     "iopub.execute_input": "2023-11-11T15:21:44.610753Z",
     "iopub.status.busy": "2023-11-11T15:21:44.610359Z",
     "iopub.status.idle": "2023-11-11T15:21:45.152550Z",
     "shell.execute_reply": "2023-11-11T15:21:45.151245Z"
    },
    "papermill": {
     "duration": 0.554485,
     "end_time": "2023-11-11T15:21:45.154777",
     "exception": false,
     "start_time": "2023-11-11T15:21:44.600292",
     "status": "completed"
    },
    "tags": []
   },
   "outputs": [
    {
     "data": {
      "image/png": "[encoded data removed]",
      "text/plain": [
       "<Figure size 640x480 with 1 Axes>"
      ]
     },
     "metadata": {},
     "output_type": "display_data"
    },
    {
     "data": {
      "image/png": "[encoded data removed]",
      "text/plain": [
       "<Figure size 640x480 with 1 Axes>"
      ]
     },
     "metadata": {},
     "output_type": "display_data"
    }
   ],
   "source": [
    "# Histogram before cleaning\n",
    "plt.hist(df['Volume_(BTC)'], bins=30, label=\"Before Cleaning - Volume BTC\")\n",
    "plt.legend()\n",
    "plt.show()\n",
    "\n",
    "# Histogram after Cleaning\n",
    "plt.hist(replacing_btc_fill, bins=30, label=\"After Cleaning - Volume BTC\")\n",
    "plt.legend()\n",
    "plt.show()"
   ]
  },
  {
   "cell_type": "code",
   "execution_count": 21,
   "id": "0f34d405",
   "metadata": {
    "execution": {
     "iopub.execute_input": "2023-11-11T15:21:45.175374Z",
     "iopub.status.busy": "2023-11-11T15:21:45.175005Z",
     "iopub.status.idle": "2023-11-11T15:21:45.541723Z",
     "shell.execute_reply": "2023-11-11T15:21:45.540228Z"
    },
    "papermill": {
     "duration": 0.379854,
     "end_time": "2023-11-11T15:21:45.544540",
     "exception": false,
     "start_time": "2023-11-11T15:21:45.164686",
     "status": "completed"
    },
    "tags": []
   },
   "outputs": [
    {
     "name": "stdout",
     "output_type": "stream",
     "text": [
      "count    3.613769e+06\n",
      "mean     4.176284e+04\n",
      "std      1.518248e+05\n",
      "min      0.000000e+00\n",
      "25%      4.521422e+02\n",
      "50%      3.810124e+03\n",
      "75%      2.569821e+04\n",
      "max      1.390067e+07\n",
      "Name: Volume_(Currency), dtype: float64\n",
      "count    4.857377e+06\n",
      "mean     3.140243e+04\n",
      "std      1.321901e+05\n",
      "min      0.000000e+00\n",
      "25%      1.425400e+02\n",
      "50%      1.333339e+03\n",
      "75%      1.414038e+04\n",
      "max      1.390067e+07\n",
      "Name: Volume_(Currency), dtype: float64\n"
     ]
    }
   ],
   "source": [
    "# Statistical Summary before Cleaning\n",
    "print(df['Volume_(Currency)'].describe())\n",
    "\n",
    "# Statistical Summary after Cleaning\n",
    "print(replacing_currency.describe())"
   ]
  },
  {
   "cell_type": "code",
   "execution_count": 22,
   "id": "f546fa06",
   "metadata": {
    "execution": {
     "iopub.execute_input": "2023-11-11T15:21:45.564647Z",
     "iopub.status.busy": "2023-11-11T15:21:45.564313Z",
     "iopub.status.idle": "2023-11-11T15:21:46.127306Z",
     "shell.execute_reply": "2023-11-11T15:21:46.126307Z"
    },
    "papermill": {
     "duration": 0.576007,
     "end_time": "2023-11-11T15:21:46.129785",
     "exception": false,
     "start_time": "2023-11-11T15:21:45.553778",
     "status": "completed"
    },
    "tags": []
   },
   "outputs": [
    {
     "data": {
      "image/png": "[encoded data removed]",
      "text/plain": [
       "<Figure size 640x480 with 1 Axes>"
      ]
     },
     "metadata": {},
     "output_type": "display_data"
    },
    {
     "data": {
      "image/png": "[encoded data removed]",
      "text/plain": [
       "<Figure size 640x480 with 1 Axes>"
      ]
     },
     "metadata": {},
     "output_type": "display_data"
    }
   ],
   "source": [
    "# Histogram Volume Currency before Cleaning\n",
    "plt.hist(df['Volume_(Currency)'], bins=30, label=\"Before Cleaning - Volume Currency\")\n",
    "plt.legend()\n",
    "plt.show()\n",
    "\n",
    "# Histogram Volume Currency After Cleaning\n",
    "plt.hist(replacing_currency, bins=30, label=\"After Cleaning - Volume Currency\")\n",
    "plt.legend()\n",
    "plt.show()"
   ]
  },
  {
   "cell_type": "code",
   "execution_count": 23,
   "id": "3712b25a",
   "metadata": {
    "execution": {
     "iopub.execute_input": "2023-11-11T15:21:46.153962Z",
     "iopub.status.busy": "2023-11-11T15:21:46.153596Z",
     "iopub.status.idle": "2023-11-11T15:21:46.477907Z",
     "shell.execute_reply": "2023-11-11T15:21:46.477340Z"
    },
    "papermill": {
     "duration": 0.338722,
     "end_time": "2023-11-11T15:21:46.479887",
     "exception": false,
     "start_time": "2023-11-11T15:21:46.141165",
     "status": "completed"
    },
    "tags": []
   },
   "outputs": [
    {
     "name": "stdout",
     "output_type": "stream",
     "text": [
      "count    3.613769e+06\n",
      "mean     6.008935e+03\n",
      "std      8.995992e+03\n",
      "min      3.800000e+00\n",
      "25%      4.438306e+02\n",
      "50%      3.596804e+03\n",
      "75%      8.627637e+03\n",
      "max      6.171621e+04\n",
      "Name: Weighted_Price, dtype: float64\n",
      "count    3.613769e+06\n",
      "mean     6.008935e+03\n",
      "std      8.995992e+03\n",
      "min      3.800000e+00\n",
      "25%      4.438306e+02\n",
      "50%      3.596804e+03\n",
      "75%      8.627637e+03\n",
      "max      6.171621e+04\n",
      "Name: Weighted_Price, dtype: float64\n"
     ]
    }
   ],
   "source": [
    "# Statistical Summary Weighted_Price Before Cleaning\n",
    "print(df['Weighted_Price'].describe())\n",
    "\n",
    "# Statistical Summary after Cleaning\n",
    "print(cleaned_Weighted_Price.describe())"
   ]
  },
  {
   "cell_type": "code",
   "execution_count": 24,
   "id": "f96ce9c7",
   "metadata": {
    "execution": {
     "iopub.execute_input": "2023-11-11T15:21:46.501223Z",
     "iopub.status.busy": "2023-11-11T15:21:46.500834Z",
     "iopub.status.idle": "2023-11-11T15:21:46.531609Z",
     "shell.execute_reply": "2023-11-11T15:21:46.530404Z"
    },
    "papermill": {
     "duration": 0.04443,
     "end_time": "2023-11-11T15:21:46.534195",
     "exception": false,
     "start_time": "2023-11-11T15:21:46.489765",
     "status": "completed"
    },
    "tags": []
   },
   "outputs": [
    {
     "name": "stdout",
     "output_type": "stream",
     "text": [
      "Media before cleaning 6008.934800288798\n",
      "Media after cleaning 6008.934800288798\n"
     ]
    }
   ],
   "source": [
    "# Average before and after drop\n",
    "print(\"Media before cleaning\", df['Weighted_Price'].mean())\n",
    "print(\"Media after cleaning\", cleaned_Weighted_Price.mean())"
   ]
  },
  {
   "cell_type": "code",
   "execution_count": null,
   "id": "973d5910",
   "metadata": {
    "papermill": {
     "duration": 0.009073,
     "end_time": "2023-11-11T15:21:46.552804",
     "exception": false,
     "start_time": "2023-11-11T15:21:46.543731",
     "status": "completed"
    },
    "tags": []
   },
   "outputs": [],
   "source": []
  }
 ],
 "metadata": {
  "kernelspec": {
   "display_name": "Python 3",
   "language": "python",
   "name": "python3"
  },
  "language_info": {
   "codemirror_mode": {
    "name": "ipython",
    "version": 3
   },
   "file_extension": ".py",
   "mimetype": "text/x-python",
   "name": "python",
   "nbconvert_exporter": "python",
   "pygments_lexer": "ipython3",
   "version": "3.10.12"
  },
  "papermill": {
   "default_parameters": {},
   "duration": 16.402194,
   "end_time": "2023-11-11T15:21:47.083253",
   "environment_variables": {},
   "exception": null,
   "input_path": "__notebook__.ipynb",
   "output_path": "__notebook__.ipynb",
   "parameters": {},
   "start_time": "2023-11-11T15:21:30.681059",
   "version": "2.4.0"
  }
 },
 "nbformat": 4,
 "nbformat_minor": 5
}
